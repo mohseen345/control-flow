{
 "cells": [
  {
   "cell_type": "markdown",
   "id": "ce7426fd-4e86-470e-9e31-27fe20706ea1",
   "metadata": {},
   "source": [
    "Basic If-Else Statements:"
   ]
  },
  {
   "cell_type": "markdown",
   "id": "c67a9c64-0aba-44af-8a0e-33d96176eb9d",
   "metadata": {},
   "source": [
    "1. Write a Python program to check if a given number is positive or negative."
   ]
  },
  {
   "cell_type": "code",
   "execution_count": 3,
   "id": "686eb3b1-c0c0-40ed-b332-317763f65d92",
   "metadata": {},
   "outputs": [
    {
     "name": "stdout",
     "output_type": "stream",
     "text": [
      "this is positive number\n"
     ]
    }
   ],
   "source": [
    "num=20\n",
    "if num=='-':\n",
    "    print(\"this is negative number\")\n",
    "else:\n",
    "        print(\"this is positive number\")"
   ]
  },
  {
   "cell_type": "markdown",
   "id": "d0aaa94e-df7c-4b18-b3bf-0692a6e4a3cf",
   "metadata": {},
   "source": [
    "2. Create a program that determines if a person is eligible to vote based on their age."
   ]
  },
  {
   "cell_type": "code",
   "execution_count": 7,
   "id": "40cc4941-1b9f-4155-a903-e7b9f0b599f1",
   "metadata": {},
   "outputs": [
    {
     "name": "stdout",
     "output_type": "stream",
     "text": [
      "the person is not eligible for vote\n"
     ]
    }
   ],
   "source": [
    "num=2\n",
    "if num>=18:\n",
    "    print(\"the person is eligible for vote\")\n",
    "else:\n",
    "        print(\"the person is not eligible for vote\")"
   ]
  },
  {
   "cell_type": "markdown",
   "id": "796d5167-e35a-462b-b514-6b7afffba74e",
   "metadata": {},
   "source": [
    "3. Develop a program to find the maximum of two numbers using if-else statements."
   ]
  },
  {
   "cell_type": "code",
   "execution_count": 9,
   "id": "e363b250-7b54-46c7-aa65-ce6389c9e996",
   "metadata": {},
   "outputs": [
    {
     "name": "stdout",
     "output_type": "stream",
     "text": [
      "num2 is the maximum number\n"
     ]
    }
   ],
   "source": [
    "num1=29\n",
    "num2=34\n",
    "if num1>num2:\n",
    "    print(\"num1 is the maximum number\")\n",
    "else:\n",
    "        print(\"num2 is the maximum number\")"
   ]
  },
  {
   "cell_type": "markdown",
   "id": "a6cd78ea-4831-4961-b4e1-5c7386b12cf2",
   "metadata": {},
   "source": [
    "4. Write a Python script to classify a given year as a leap year or not."
   ]
  },
  {
   "cell_type": "code",
   "execution_count": 18,
   "id": "670860b5-ea55-4085-a896-49fc9a187f1c",
   "metadata": {},
   "outputs": [
    {
     "name": "stdin",
     "output_type": "stream",
     "text": [
      "Enter Year:  4\n"
     ]
    },
    {
     "name": "stdout",
     "output_type": "stream",
     "text": [
      "4 is a Leap Year\n"
     ]
    }
   ],
   "source": [
    "year = int(input(\"Enter Year: \"))\n",
    "\n",
    "if year % 4 == 0 and year % 100 != 0:\n",
    "    print(year, \"is a Leap Year\")\n",
    "elif year % 100 == 0:\n",
    "    print(year, \"is not a Leap Year\")\n",
    "elif year % 400 ==0:\n",
    "    print(year, \"is a Leap Year\")\n",
    "else:\n",
    "    print(year, \"is not a Leap Year\")\n"
   ]
  },
  {
   "cell_type": "markdown",
   "id": "7d4d9ffd-884b-4a28-9a67-bffd89cb1c7e",
   "metadata": {},
   "source": [
    "5. Create a program that checks whether a character is a vowel or a consonant."
   ]
  },
  {
   "cell_type": "code",
   "execution_count": 28,
   "id": "93857b8e-e0d6-4089-af82-d4137f4f385f",
   "metadata": {},
   "outputs": [
    {
     "name": "stdout",
     "output_type": "stream",
     "text": [
      "Consonant\n",
      "Vowel\n"
     ]
    }
   ],
   "source": [
    "\n",
    "def vowelOrConsonant(x): \n",
    "\n",
    "\tif (x == 'a' or x == 'e' or\n",
    "\t\tx == 'i' or x == 'o' or x == 'u'): \n",
    "\t\tprint(\"Vowel\") \n",
    "\telse: \n",
    "\t\tprint(\"Consonant\")\n",
    "vowelOrConsonant('c') \n",
    "vowelOrConsonant('e')\n"
   ]
  },
  {
   "cell_type": "markdown",
   "id": "e4e6d19e-e10b-43fa-b463-b419e83aaacf",
   "metadata": {},
   "source": [
    "6. Implement a program to determine whether a given number is even or odd."
   ]
  },
  {
   "cell_type": "code",
   "execution_count": 36,
   "id": "71f06291-2437-49a3-a702-4570a56bbd4c",
   "metadata": {},
   "outputs": [
    {
     "name": "stdin",
     "output_type": "stream",
     "text": [
      "enter a number 7\n"
     ]
    },
    {
     "name": "stdout",
     "output_type": "stream",
     "text": [
      "this is even number\n"
     ]
    }
   ],
   "source": [
    "num=int(input(\"enter a number\"))\n",
    "if num%2:\n",
    "        print(\"this is even number\")\n",
    "else:\n",
    "        print(\"this is odd number\")"
   ]
  },
  {
   "cell_type": "markdown",
   "id": "d5bbb6b9-16dd-4d64-8230-a6d71653f91b",
   "metadata": {},
   "source": [
    "7. Write a Python function to calculate the absolute value of a number without using the `abs()` function."
   ]
  },
  {
   "cell_type": "code",
   "execution_count": 12,
   "id": "2f448821-b401-4ef8-bcd3-4d7c1e2c9fd6",
   "metadata": {},
   "outputs": [
    {
     "name": "stdout",
     "output_type": "stream",
     "text": [
      "3.5\n",
      "None\n"
     ]
    }
   ],
   "source": [
    "def my_abs(value):\n",
    "    \"\"\"Returns absolute value without using abs function\"\"\"\n",
    "    if value < 5 :\n",
    "        print(value * 1)\n",
    "    else:\n",
    "        print(value * -1)\n",
    "print(my_abs(3.5))"
   ]
  },
  {
   "cell_type": "markdown",
   "id": "9435c2fe-e492-44c4-88c4-3aa529e80a57",
   "metadata": {},
   "source": [
    "8. Develop a program that determines the largest of three given numbers using if-else statements."
   ]
  },
  {
   "cell_type": "code",
   "execution_count": 24,
   "id": "4c26560e-88e1-4c10-8602-f87a6b32cc5a",
   "metadata": {},
   "outputs": [
    {
     "name": "stdout",
     "output_type": "stream",
     "text": [
      "the largest number is  20\n"
     ]
    }
   ],
   "source": [
    "num1=10\n",
    "num2=14\n",
    "num3=20\n",
    "if (num1>=num2)and(num1>=num3):\n",
    "    largest=num1\n",
    "elif(num2>=num1)and(num2>=num3):\n",
    "    largest=num2\n",
    "else:\n",
    "        largest=num3\n",
    "print(\"the largest number is \",largest)"
   ]
  },
  {
   "cell_type": "markdown",
   "id": "bf4fbc11-af66-4cba-b6f3-8d585dd115bb",
   "metadata": {},
   "source": [
    "9. Create a program that checks if a given string is a palindrome."
   ]
  },
  {
   "cell_type": "code",
   "execution_count": null,
   "id": "3c739a73-ab72-48bd-a3ea-9a6d38d569cf",
   "metadata": {},
   "outputs": [],
   "source": []
  },
  {
   "cell_type": "code",
   "execution_count": 30,
   "id": "1c15de8b-ba54-49a7-b6dd-ac5f46e17e59",
   "metadata": {},
   "outputs": [
    {
     "name": "stdout",
     "output_type": "stream",
     "text": [
      "yes\n"
     ]
    }
   ],
   "source": [
    "def is_palindrome(s):\n",
    "    return S==s[::-1]\n",
    "S=\"malayalam\"\n",
    "ans=is_palindrome(S)\n",
    "if ans:\n",
    "    print(\"yes\")\n",
    "else:\n",
    "        print(\"no\")"
   ]
  },
  {
   "cell_type": "markdown",
   "id": "05de6e8b-372a-4f8b-9eec-447aba1e37e5",
   "metadata": {},
   "source": [
    "10. Write a Python program to calculate the grade based on a student's score."
   ]
  },
  {
   "cell_type": "code",
   "execution_count": 35,
   "id": "87527c96-fee3-4c51-8843-2f1e27bf7c03",
   "metadata": {},
   "outputs": [
    {
     "name": "stdout",
     "output_type": "stream",
     "text": [
      "grade:A\n"
     ]
    }
   ],
   "source": [
    "student_num=90\n",
    "if student_num>=90:\n",
    "    print(\"grade:A\")\n",
    "elif(student_num<=80):\n",
    "    print(\"grade B\")\n",
    "elif(student_num>=70):\n",
    "    print(\"grade c\")\n",
    "else:\n",
    "     print(\"grade d\")"
   ]
  },
  {
   "cell_type": "markdown",
   "id": "f5ca1449-96b2-4b9f-89ca-ec9504fa59bc",
   "metadata": {},
   "source": [
    "nested if-else statements:\n"
   ]
  },
  {
   "cell_type": "markdown",
   "id": "115d5ee0-9a67-42f7-80a2-d95e1df58a0e",
   "metadata": {},
   "source": [
    "11. Write a program to find the largest among three numbers using nested if-else statements."
   ]
  },
  {
   "cell_type": "code",
   "execution_count": 43,
   "id": "8be1efad-739c-4fcf-9774-3a2260729123",
   "metadata": {},
   "outputs": [
    {
     "name": "stdout",
     "output_type": "stream",
     "text": [
      "30\n"
     ]
    }
   ],
   "source": [
    "def maximum(a,b,c):\n",
    "    if (a>=b)and(a>=c):\n",
    "        largest=a\n",
    "    elif (b>=a)and(b>=c):\n",
    "        largest=b\n",
    "    else:\n",
    "        largest=c\n",
    "        return largest\n",
    "a=10\n",
    "b=20\n",
    "c=30\n",
    "print(maximum(a,b,c))"
   ]
  },
  {
   "cell_type": "markdown",
   "id": "b5223020-2125-4da8-9823-ed95df411cd7",
   "metadata": {},
   "source": [
    "12. Implement a program to determine if a triangle is equilateral, isosceles, or scalene."
   ]
  },
  {
   "cell_type": "code",
   "execution_count": 4,
   "id": "e913e7c1-ea40-4cce-ba22-bb7c6b8496de",
   "metadata": {},
   "outputs": [],
   "source": [
    "def checktriangle(x,y,z):\n",
    "    if x==y==z:\n",
    "        print(\"eqilateral tringle\")\n",
    "    elif x==y or y==z or z==x:\n",
    "        print(\"Isosceles tringle\")\n",
    "    else:\n",
    "        print(\"scalene Tringle\")"
   ]
  },
  {
   "cell_type": "markdown",
   "id": "0b788807-6515-4d39-8188-f6a6c37363ef",
   "metadata": {},
   "source": [
    "13. Develop a program that checks if a year is a leap year and also if it is a century year."
   ]
  },
  {
   "cell_type": "code",
   "execution_count": 9,
   "id": "1599b2bd-e4af-4013-8465-5d7549309167",
   "metadata": {},
   "outputs": [
    {
     "name": "stdin",
     "output_type": "stream",
     "text": [
      "Enter a year:  2023\n"
     ]
    },
    {
     "name": "stdout",
     "output_type": "stream",
     "text": [
      "2023 is not a leap year\n"
     ]
    }
   ],
   "source": [
    "# To get year (integer input) from the user\n",
    "year = int(input(\"Enter a year: \"))\n",
    "\n",
    "# divided by 100 means century year (ending with 00)\n",
    "# century year divided by 400 is leap year\n",
    "if (year % 400 == 0) and (year % 100 == 0):\n",
    "    print(\"{0} is a leap year\".format(year))\n",
    "\n",
    "# not divided by 100 means not a century year\n",
    "# year divided by 4 is a leap year\n",
    "elif (year % 4 ==0) and (year % 100 != 0):\n",
    "    print(\"{0} is a leap year\".format(year))\n",
    "\n",
    "# if not divided by both 400 (century year) and 4 (not century year)\n",
    "# year is not leap year\n",
    "else:\n",
    "    print(\"{0} is not a leap year\".format(year))"
   ]
  },
  {
   "cell_type": "markdown",
   "id": "a7872af0-a019-42ca-8d42-ff8bdbb283f6",
   "metadata": {},
   "source": [
    "14. Write a Python script to determine if a number is positive, negative, or zero."
   ]
  },
  {
   "cell_type": "code",
   "execution_count": null,
   "id": "902db122-5413-4104-afe4-21a776e2a72f",
   "metadata": {},
   "outputs": [],
   "source": [
    "# Python program to check whether\n",
    "# the number is positive, negative\n",
    "# or equal to zero\n",
    "\n",
    "def check(n):\n",
    "\t\n",
    "\t# if the number is positive\n",
    "\tif n > 0:\n",
    "\t\tprint(\"Positive\")\n",
    "\t\t\n",
    "\t# if the number is negative\n",
    "\telif n < 0:\n",
    "\t\tprint(\"Negative\")\n",
    "\t\t\n",
    "\t# if the number is equal to\n",
    "\t# zero\n",
    "\telse:\n",
    "\t\tprint(\"Equal to zero\")\n",
    "\t\t\n",
    "# Driver Code\n",
    "check(5)\n",
    "check(0)\n",
    "check(-5)\n"
   ]
  },
  {
   "cell_type": "raw",
   "id": "2d6563f2-2260-4058-bbdf-897c72df6024",
   "metadata": {},
   "source": [
    "15. Create a program to check if a person is a teenager (between 13 and 19 years old)."
   ]
  },
  {
   "cell_type": "code",
   "execution_count": 11,
   "id": "ccefa41d-d17a-4b7a-85e3-4ec6ad1dbdbb",
   "metadata": {},
   "outputs": [
    {
     "name": "stdin",
     "output_type": "stream",
     "text": [
      "Please enter a persons age. 0\n"
     ]
    },
    {
     "name": "stdout",
     "output_type": "stream",
     "text": [
      "The person is an infant.\n",
      "The person is not an infant.\n",
      "The person is not a teenager.\n"
     ]
    }
   ],
   "source": [
    "age = int(input('Please enter a persons age.'))\n",
    "if age <= 1: print('The person is an infant.')\n",
    "else: print('The person is not an infant.')\n",
    "if age > 1 and age > 13: print('The person is a child.')\n",
    "else: print ('The person is not an infant.')\n",
    "if age <= 13 and age > 20: print('The person is a teenager.')\n",
    "else: print ('The person is not a teenager.')\n",
    "if age >=20: print ('The person is an adult.')"
   ]
  },
  {
   "cell_type": "raw",
   "id": "9bb632b5-7063-4fd3-a7ae-e5aea7cd4c62",
   "metadata": {},
   "source": [
    "16. Develop a program that determines the type of angle based on its measure (acute, obtuse, or right)."
   ]
  },
  {
   "cell_type": "code",
   "execution_count": 14,
   "id": "28823b49-9761-4613-a251-51c26604d60d",
   "metadata": {},
   "outputs": [
    {
     "name": "stdin",
     "output_type": "stream",
     "text": [
      "enter the number of 1 :  8\n",
      "enter the number of 2 :  0\n",
      "enter the number of 3 :  0\n"
     ]
    },
    {
     "name": "stdout",
     "output_type": "stream",
     "text": [
      "acute angle\n",
      "obtuse angle\n"
     ]
    }
   ],
   "source": [
    "A = int(input(\"enter the number of 1 : \"))\n",
    "B = int(input(\"enter the number of 2 : \"))\n",
    "C = int(input(\"enter the number of 3 : \"))\n",
    "\n",
    "if(A+B+C <= 90):\n",
    "    print(\"acute angle\")\n",
    "if(  90>A<=180 or 90>B<=180 or 90>C<=180 ):\n",
    "    print(\"obtuse angle\")\n",
    "if(A+B+C > 180):\n",
    "    print(\"NOT TRIANGLE\")\n",
    "if(A==90 or B==90 or C==90):\n",
    "    print(\"carpenter's triangle\")"
   ]
  },
  {
   "cell_type": "markdown",
   "id": "f0772cac-9f03-486c-b673-e978d19b2171",
   "metadata": {},
   "source": [
    "17. Write a Python program to calculate the roots of a quadratic equation."
   ]
  },
  {
   "cell_type": "code",
   "execution_count": 15,
   "id": "bc72db77-6253-42e8-8124-ce2fb172826e",
   "metadata": {},
   "outputs": [
    {
     "name": "stdout",
     "output_type": "stream",
     "text": [
      "The solution are (-3+0j) and (-2+0j)\n"
     ]
    }
   ],
   "source": [
    "# Solve the quadratic equation ax**2 + bx + c = 0\n",
    "\n",
    "# import complex math module\n",
    "import cmath\n",
    "\n",
    "a = 1\n",
    "b = 5\n",
    "c = 6\n",
    "\n",
    "# calculate the discriminant\n",
    "d = (b**2) - (4*a*c)\n",
    "\n",
    "# find two solutions\n",
    "sol1 = (-b-cmath.sqrt(d))/(2*a)\n",
    "sol2 = (-b+cmath.sqrt(d))/(2*a)\n",
    "\n",
    "print('The solution are {0} and {1}'.format(sol1,sol2))\n"
   ]
  },
  {
   "cell_type": "raw",
   "id": "2adb2f53-6c48-45a9-b3d7-49048ed68abc",
   "metadata": {},
   "source": [
    "18. Implement a program to determine the day of the week based on a user-provided number (1 for Monday, 2\n",
    "for Tuesday, etc.)."
   ]
  },
  {
   "cell_type": "code",
   "execution_count": 17,
   "id": "bf39289e-745b-4190-aace-b296a6651da3",
   "metadata": {},
   "outputs": [
    {
     "name": "stdin",
     "output_type": "stream",
     "text": [
      "Enter weekday day number (1-7) :  6\n"
     ]
    },
    {
     "name": "stdout",
     "output_type": "stream",
     "text": [
      "\n",
      "Saturday\n"
     ]
    }
   ],
   "source": [
    "# Taken day number from user\n",
    "weekday = int(input(\"Enter weekday day number (1-7) : \"))\n",
    "\n",
    "if weekday == 1 :\n",
    "    print(\"\\nMonday\");\n",
    "\n",
    "elif weekday == 2 :\n",
    "    print(\"\\nTuesday\")\n",
    "\n",
    "elif(weekday == 3) :\n",
    "    print(\"\\nWednesday\")\n",
    "\n",
    "elif(weekday == 4) :\n",
    "    print(\"\\nThursday\")\n",
    "\n",
    "elif(weekday == 5) :\n",
    "    print(\"\\nFriday\")\n",
    "\n",
    "elif(weekday == 6) :\n",
    "    print(\"\\nSaturday\")\n",
    "\n",
    "elif (weekday == 7) :\n",
    "    print(\"\\nSunday\")\n",
    "\n",
    "else :\n",
    "    print(\"\\nPlease enter weekday number between 1-7.\")"
   ]
  },
  {
   "cell_type": "raw",
   "id": "d640e077-de4c-4e22-9426-0e3a3c29b9b9",
   "metadata": {},
   "source": [
    "19. Create a program that determines if a year is a leap year and also if it is evenly divisible by 400."
   ]
  },
  {
   "cell_type": "code",
   "execution_count": 23,
   "id": "b98a83ad-3bb6-422c-861e-ca29d64e7fef",
   "metadata": {},
   "outputs": [
    {
     "ename": "IndentationError",
     "evalue": "expected an indented block after function definition on line 1 (1754092963.py, line 2)",
     "output_type": "error",
     "traceback": [
      "\u001b[0;36m  Cell \u001b[0;32mIn[23], line 2\u001b[0;36m\u001b[0m\n\u001b[0;31m    if((y % 400 == 0) or\u001b[0m\n\u001b[0m    ^\u001b[0m\n\u001b[0;31mIndentationError\u001b[0m\u001b[0;31m:\u001b[0m expected an indented block after function definition on line 1\n"
     ]
    }
   ],
   "source": [
    "def ISLP(y):\n",
    "if((y % 400 == 0) or\n",
    "     (y % 100 != 0) and\n",
    "     (y % 4 == 0)): \n",
    "    return 1;\n",
    "else:\n",
    "    return 0;\n",
    " "
   ]
  },
  {
   "cell_type": "raw",
   "id": "95a1fff6-2c3e-4601-b2f2-33b14dc342b6",
   "metadata": {},
   "source": [
    "20. Develop a program that checks if a given number is prime or not using nested if-else statements."
   ]
  },
  {
   "cell_type": "code",
   "execution_count": 24,
   "id": "87ffaf44-599e-4f06-8ef8-ce5bc69b18b2",
   "metadata": {},
   "outputs": [
    {
     "name": "stdin",
     "output_type": "stream",
     "text": [
      "Enter any number:  7\n"
     ]
    },
    {
     "name": "stdout",
     "output_type": "stream",
     "text": [
      "7 is a prime number\n"
     ]
    }
   ],
   "source": [
    "number = int(input(\"Enter any number: \"))\n",
    "\n",
    "# prime number is always greater than 1\n",
    "if number > 1:\n",
    "    for i in range(2, number):\n",
    "        if (number % i) == 0:\n",
    "            print(number, \"is not a prime number\")\n",
    "            break\n",
    "    else:\n",
    "        print(number, \"is a prime number\")\n",
    "\n",
    "# if the entered number is less than or equal to 1\n",
    "# then it is not prime number\n",
    "else:\n",
    "    print(number, \"is not a prime number\")"
   ]
  },
  {
   "cell_type": "raw",
   "id": "93d2c350-8007-4db8-b87f-1c028a7d9a16",
   "metadata": {},
   "source": [
    "21.Write a Python program to assign grades based on different ranges of scores using elif statements."
   ]
  },
  {
   "cell_type": "code",
   "execution_count": null,
   "id": "3c921f9a-e246-4955-af3a-4d14a428d94d",
   "metadata": {},
   "outputs": [],
   "source": [
    "def determine_grade(scores):\n",
    "    if scores >= 90 and <= 100:\n",
    "        return 'A'\n",
    "    elif scores >= 80 and <= 89:\n",
    "        return 'B'\n",
    "    elif scores >= 70 and <= 79:\n",
    "        return 'C'\n",
    "    elif scores >= 60 and <= 69:\n",
    "        return 'D'\n",
    "    elif scores >= 50 and <= 59:\n",
    "        return 'E'\n",
    "    else:\n",
    "        return 'F'"
   ]
  },
  {
   "cell_type": "raw",
   "id": "9e1125a4-b59a-4378-b7a0-ff8dec5958b0",
   "metadata": {},
   "source": [
    "22. Implement a program to determine the type of a triangle based on its angles."
   ]
  },
  {
   "cell_type": "code",
   "execution_count": 25,
   "id": "9ca3d403-cda0-4460-82d0-43376207199c",
   "metadata": {},
   "outputs": [],
   "source": [
    "def checkTypeOfTriangle(a,b,c):\n",
    "    sqa = pow(a, 2)\n",
    "    sqb = pow(b, 2)\n",
    "    sqc = pow(c, 2)\n",
    " \n",
    "    if (sqa == sqc + sqb or\n",
    "        sqb == sqa + sqc or\n",
    "        sqc == sqa + sqb):\n",
    "        print(\"Right-angled Triangle\")\n",
    " \n",
    "    elif(sqa > sqc + sqb or\n",
    "            sqb > sqa + sqc or\n",
    "            sqc > sqa + sqb):\n",
    "        print(\"Obtuse-angled Triangle\")\n",
    " \n",
    "    else:\n",
    "        print(\"Acute-angled Triangle\")"
   ]
  },
  {
   "cell_type": "raw",
   "id": "728669f6-b6b4-4bd3-aeea-3818ee71d24e",
   "metadata": {},
   "source": [
    "23. Develop a program to categorize a given person's BMI into underweight, normal, overweight, or obese using\n",
    "elif statements."
   ]
  },
  {
   "cell_type": "code",
   "execution_count": 60,
   "id": "efca0201-0208-4698-947c-48a3d4a5d188",
   "metadata": {},
   "outputs": [
    {
     "name": "stdout",
     "output_type": "stream",
     "text": [
      "The BMI is 21.64532402096181 so Healthy\n"
     ]
    }
   ],
   "source": [
    "def BMI(height, weight): \n",
    "    bmi = weight/(height**2) \n",
    "    return bmi \n",
    "  \n",
    "# Driver code \n",
    "height = 1.79832\n",
    "weight = 70\n",
    "  \n",
    "# calling the BMI function \n",
    "bmi = BMI(height, weight) \n",
    "print(\"The BMI is\", format(bmi), \"so \", end='') \n",
    "  \n",
    "# Conditions to find out BMI category \n",
    "if (bmi < 18.5): \n",
    "    print(\"underweight\") \n",
    "  \n",
    "elif ( bmi >= 18.5 and bmi < 24.9): \n",
    "    print(\"Healthy\") \n",
    "  \n",
    "elif ( bmi >= 24.9 and bmi < 30): \n",
    "    print(\"overweight\") \n",
    "  \n",
    "elif ( bmi >=30): \n",
    "    print(\"Suffering from Obesity\")"
   ]
  },
  {
   "cell_type": "raw",
   "id": "83ba7963-c999-4fdc-9f1f-05e70c7a6a85",
   "metadata": {},
   "source": [
    "24. Create a program that determines whether a given number is positive, negative, or zero using elif\n",
    "statements."
   ]
  },
  {
   "cell_type": "code",
   "execution_count": 62,
   "id": "79d49c58-2cb0-45cc-8f4a-4a09025712c7",
   "metadata": {},
   "outputs": [
    {
     "name": "stdin",
     "output_type": "stream",
     "text": [
      "Enter a number:  879\n"
     ]
    },
    {
     "name": "stdout",
     "output_type": "stream",
     "text": [
      "Positive number\n"
     ]
    }
   ],
   "source": [
    "num = float(input(\"Enter a number: \"))\n",
    "if num > 0:\n",
    "   print(\"Positive number\")\n",
    "elif num == 0:\n",
    "   print(\"Zero\")\n",
    "else:\n",
    "   print(\"Negative number\")"
   ]
  },
  {
   "cell_type": "markdown",
   "id": "b0543232-24f3-44ae-8968-be3333dcd766",
   "metadata": {},
   "source": [
    "25. Write a Python script to determine the type of a character (uppercase, lowercase, or special) using elif\n",
    "statements."
   ]
  },
  {
   "cell_type": "code",
   "execution_count": 64,
   "id": "54379465-23f5-4a84-ba64-a163213341fa",
   "metadata": {},
   "outputs": [
    {
     "name": "stdin",
     "output_type": "stream",
     "text": [
      "Please Enter Your Own Character :  a\n"
     ]
    },
    {
     "name": "stdout",
     "output_type": "stream",
     "text": [
      "The Given Character  a is a Lowercase Alphabet\n"
     ]
    }
   ],
   "source": [
    "ch = input(\"Please Enter Your Own Character : \")\n",
    "\n",
    "if(ch >= 'A' and ch <= 'Z'):\n",
    "    print(\"The Given Character \", ch, \"is an Uppercase Alphabet\") \n",
    "elif(ch >= 'a' and ch <= 'z'):\n",
    "    print(\"The Given Character \", ch, \"is a Lowercase Alphabet\")\n",
    "else:\n",
    "    print(\"The Given Character \", ch, \"is Not a Lower or Uppercase Alpha\")"
   ]
  },
  {
   "cell_type": "raw",
   "id": "c63de24f-f95a-4513-a9b3-3e27ffa69e36",
   "metadata": {},
   "source": [
    "26. Implement a program to calculate the discounted price based on different purchase amounts using elif\n",
    "statements."
   ]
  },
  {
   "cell_type": "code",
   "execution_count": 66,
   "id": "2c37dd62-4c24-44c4-99c7-f6a6fb1a27aa",
   "metadata": {},
   "outputs": [],
   "source": [
    "def getDiscount(amount):\n",
    "\tif amount <= 0:\n",
    "\t\treturn 0;\n",
    "\telif amount <= 100:\n",
    "\t\treturn amount*.02;\n",
    "\telif amount <= 500:\n",
    "\t\treturn amount*.05;\n",
    "\telif amount <= 1000:\n",
    "\t\treturn amount*.07;\n",
    "\telse:\n",
    "\t\treturn amount*.1;\n",
    "\n",
    "\n",
    "\tselling_price = int(input(\"Enter selling price : \"))\n",
    "\tdiscount = getDiscount(selling_price)\n",
    "\n",
    "\tprint(\"Discount : {}\".format(discount))"
   ]
  },
  {
   "cell_type": "raw",
   "id": "25a2c2ef-d7a0-4360-b2e3-94b27ed6d11f",
   "metadata": {},
   "source": [
    "27. Develop a program to calculate the electricity bill based on different consumption slabs using elif\n",
    "statements."
   ]
  },
  {
   "cell_type": "code",
   "execution_count": 67,
   "id": "8bd2f092-a104-47db-9975-7b91df590872",
   "metadata": {},
   "outputs": [
    {
     "name": "stdin",
     "output_type": "stream",
     "text": [
      "please enter the number of units you consumed in a month 8\n"
     ]
    },
    {
     "name": "stdout",
     "output_type": "stream",
     "text": [
      "\n",
      "Electicity bill=37.00\n"
     ]
    }
   ],
   "source": [
    "#program for calculating electricity bill in Python\n",
    "units=int(input(\"please enter the number of units you consumed in a month\"))\n",
    "if(units<=100):\n",
    "    payAmount=units*1.5\n",
    "    fixedcharge=25.00\n",
    "elif(units<=200):\n",
    "    payAmount=(100*1.5)+(units-100)*2.5\n",
    "    fixedcharge=50.00\n",
    "elif(units<=300):\n",
    "    payAmount=(100*1.5)+(200-100)*2.5+(units-200)*4\n",
    "    fixedcharge=75.00\n",
    "elif(units<=350):\n",
    "    payAmount=(100*1.5)+(200-100)*2.5+(300-200)*4+(units-300)*5\n",
    "    fixedcharge=100.00\n",
    "else:\n",
    "    payAmount=0\n",
    "    fixedcharge=1500.00\n",
    "\n",
    "Total=payAmount+fixedcharge;\n",
    "print(\"\\nElecticity bill=%.2f\" %Total)"
   ]
  },
  {
   "cell_type": "raw",
   "id": "212f1c85-bd5a-4093-b527-bb93d3cd9fba",
   "metadata": {},
   "source": [
    "28. Create a program to determine the type of quadrilateral based on its angles and sides using elif\n",
    "statements."
   ]
  },
  {
   "cell_type": "code",
   "execution_count": 68,
   "id": "25e777fa-53a8-4401-b00c-aac78e419fc6",
   "metadata": {},
   "outputs": [],
   "source": [
    "def square(side):\n",
    "\n",
    "    return side ** 2\n",
    "\n",
    "\n",
    "def rectangle(width, height):\n",
    "\n",
    "    return width * height\n",
    "\n",
    "\n",
    "def parallelogram(side, height):\n",
    "\n",
    "    return side * height\n",
    "\n",
    "\n",
    "def trapezium(height, width_1, width_2):\n",
    "\n",
    "    return 0.5 * height * ( width_1 + width_2 )\n",
    "\n",
    "\n",
    "def rhombus(height, width):\n",
    "\n",
    "    return 0.5 * height * width\n",
    "\n",
    "\n",
    "def kite(height, width):\n",
    "\n",
    "    return 0.5 * height * width"
   ]
  },
  {
   "cell_type": "raw",
   "id": "bc1d2e64-fc74-4675-9d70-f2f18b3fecb7",
   "metadata": {},
   "source": [
    "29. Write a Python script to determine the season based on a user-provided month using elif statements."
   ]
  },
  {
   "cell_type": "code",
   "execution_count": null,
   "id": "c1b85289-cb72-4ea5-9d23-6f241fe25728",
   "metadata": {},
   "outputs": [],
   "source": [
    "month = int(input(\"Enter a month: \"))\n",
    "    day = int(input(\"Enter a day: \"))\n",
    "\n",
    "def season(month):\n",
    "    if (month == \"12\" or month == \"01\" or month == \"02\" or month == \"03\"):\n",
    "        return \"winter\"\n",
    "        \n",
    "    elif(month == \"04\" or month == \"05\"):\n",
    "        return \"spring\"\n",
    "        \n",
    "    elif(month ==\"06\" or month==\"07\" or month == \"08\" or month == \"09\"):\n",
    "        return \"summer\"\n",
    "        \n",
    "    elif(month ==\"10\" or month==\"11\"):\n",
    "        \n",
    "        else:\n",
    "            \n",
    "        return \"fall\" "
   ]
  },
  {
   "cell_type": "raw",
   "id": "45b45789-8993-4c9a-b789-894450c32ba3",
   "metadata": {},
   "source": [
    "30. Implement a program to determine the type of a year (leap or common) and month (30 or 31 days) using\n",
    "elif statements."
   ]
  },
  {
   "cell_type": "code",
   "execution_count": 71,
   "id": "a466bbc4-aa04-4f75-b0a0-7ae3182dbf5f",
   "metadata": {},
   "outputs": [
    {
     "name": "stdout",
     "output_type": "stream",
     "text": [
      "None\n"
     ]
    }
   ],
   "source": [
    "def leapyr(n):\n",
    "    if n%4==0 and n%100!=0:\n",
    "        if n%400==0:\n",
    "            print(n, \"is a leap year.\")\n",
    "    elif n%4!=0:\n",
    "        print(n, \"is not a leap year.\")\n",
    "print(leapyr(1900))"
   ]
  },
  {
   "cell_type": "raw",
   "id": "7044539e-f5dd-44d9-912e-06e1088f8f06",
   "metadata": {},
   "source": [
    "Basic Level:"
   ]
  },
  {
   "cell_type": "markdown",
   "id": "862e8295-77a7-4a7a-9ded-9a8289dc9847",
   "metadata": {},
   "source": [
    "1. Write a Python program that checks if a given number is positive, negative, or zero."
   ]
  },
  {
   "cell_type": "code",
   "execution_count": 1,
   "id": "e3a67bcf-49be-434c-bd84-8c6b35be9961",
   "metadata": {},
   "outputs": [
    {
     "name": "stdout",
     "output_type": "stream",
     "text": [
      "this is positive number\n"
     ]
    }
   ],
   "source": [
    "num=20\n",
    "if num=='-':\n",
    "    print(\"this is negative number\")\n",
    "else:\n",
    "        print(\"this is positive number\")"
   ]
  },
  {
   "cell_type": "raw",
   "id": "d3f97756-fce6-44d4-bbcd-6bab485aef89",
   "metadata": {},
   "source": [
    "2. Create a program to determine if a person is eligible to vote based on their age."
   ]
  },
  {
   "cell_type": "code",
   "execution_count": 2,
   "id": "f15f82cd-dbae-4d9b-aeeb-7665df74cd3c",
   "metadata": {},
   "outputs": [
    {
     "name": "stdout",
     "output_type": "stream",
     "text": [
      "the person is not eligible for vote\n"
     ]
    }
   ],
   "source": [
    "num=2\n",
    "if num>=18:\n",
    "    print(\"the person is eligible for vote\")\n",
    "else:\n",
    "        print(\"the person is not eligible for vote\")"
   ]
  },
  {
   "cell_type": "raw",
   "id": "11169303-56c1-471d-bef7-2d9035c16db1",
   "metadata": {},
   "source": [
    "3. Write a program to find the maximum of two given numbers using conditional statements."
   ]
  },
  {
   "cell_type": "code",
   "execution_count": 4,
   "id": "0a452cee-7134-4c09-ae4d-66d9f46d52ba",
   "metadata": {},
   "outputs": [
    {
     "name": "stdout",
     "output_type": "stream",
     "text": [
      "4\n"
     ]
    }
   ],
   "source": [
    "# Python program to find the\n",
    "# maximum of two numbers\n",
    "\n",
    "\n",
    "def maximum(a, b):\n",
    "\t\n",
    "\tif a >= b:\n",
    "\t\treturn a\n",
    "\telse:\n",
    "\t\treturn b\n",
    "\t\n",
    "# Driver code\n",
    "a = 2\n",
    "b = 4\n",
    "print(maximum(a, b))\n"
   ]
  },
  {
   "cell_type": "code",
   "execution_count": null,
   "id": "dd254a2d-121b-4c68-bf70-e0a980550abb",
   "metadata": {},
   "outputs": [],
   "source": [
    "4. Develop a program that calculates the grade of a student based on their exam score."
   ]
  },
  {
   "cell_type": "code",
   "execution_count": 5,
   "id": "480e7984-c638-46dd-97c4-87782b52bc67",
   "metadata": {},
   "outputs": [
    {
     "name": "stdout",
     "output_type": "stream",
     "text": [
      "Enter Marks Obtained in 5 Subjects: \n",
      "Your Grade is B1\n"
     ]
    }
   ],
   "source": [
    "print(\"Enter Marks Obtained in 5 Subjects: \")\n",
    "total1 = 44\n",
    "total2 = 67\n",
    "total3 = 76\n",
    "total4 = 99\n",
    "total5 = 58\n",
    "\n",
    "tot = total1 + total2 + total3 + total4 + total4\n",
    "avg = tot / 5\n",
    "\n",
    "if avg >= 91 and avg <= 100:\n",
    "\tprint(\"Your Grade is A1\")\n",
    "elif avg >= 81 and avg < 91:\n",
    "\tprint(\"Your Grade is A2\")\n",
    "elif avg >= 71 and avg < 81:\n",
    "\tprint(\"Your Grade is B1\")\n",
    "elif avg >= 61 and avg < 71:\n",
    "\tprint(\"Your Grade is B2\")\n",
    "elif avg >= 51 and avg < 61:\n",
    "\tprint(\"Your Grade is C1\")\n",
    "elif avg >= 41 and avg < 51:\n",
    "\tprint(\"Your Grade is C2\")\n",
    "elif avg >= 33 and avg < 41:\n",
    "\tprint(\"Your Grade is D\")\n",
    "elif avg >= 21 and avg < 33:\n",
    "\tprint(\"Your Grade is E1\")\n",
    "elif avg >= 0 and avg < 21:\n",
    "\tprint(\"Your Grade is E2\")\n",
    "else:\n",
    "\tprint(\"Invalid Input!\")\n"
   ]
  },
  {
   "cell_type": "raw",
   "id": "7c6546df-1add-480b-ac24-df8f8c216485",
   "metadata": {},
   "source": [
    "5. Create a program that checks if a year is a leap year or not."
   ]
  },
  {
   "cell_type": "code",
   "execution_count": null,
   "id": "6090fec0-e287-4be2-83e5-19691a8eecb7",
   "metadata": {},
   "outputs": [],
   "source": [
    "ear = int(input(\"Enter Year: \"))\n",
    "\n",
    "if year % 4 == 0 and year % 100 != 0:\n",
    "    print(year, \"is a Leap Year\")\n",
    "elif year % 100 == 0:\n",
    "    print(year, \"is not a Leap Year\")\n",
    "elif year % 400 ==0:\n",
    "    print(year, \"is a Leap Year\")\n",
    "else:\n",
    "    print(year, \"is not a Leap Year\")\n"
   ]
  },
  {
   "cell_type": "raw",
   "id": "027a717f-b265-419b-b28a-72355af8abd4",
   "metadata": {},
   "source": [
    "6. Write a program to classify a triangle based on its sides' lengths."
   ]
  },
  {
   "cell_type": "code",
   "execution_count": 7,
   "id": "d99e509e-0de4-4040-9653-021dd1608a43",
   "metadata": {},
   "outputs": [
    {
     "name": "stdin",
     "output_type": "stream",
     "text": [
      "Enter side a:  8\n",
      "Enter side b:  7\n",
      "Enter side c:  6\n"
     ]
    },
    {
     "name": "stdout",
     "output_type": "stream",
     "text": [
      "Acute-angled triangle\n"
     ]
    }
   ],
   "source": [
    "def triangleType(a, b, c):\n",
    "    sa = pow(a, 2)\n",
    "    sb = pow(b, 2)\n",
    "    sc = pow(c, 2)\n",
    "    if (sa == sc + sb or sb == sa+sc or sc == sa+sb):\n",
    "        print(\"Right-angled triangle\")\n",
    "    elif (sa > sc + sb or sb > sa+sc or sc > sa+sb):\n",
    "        print(\"Obtuse-angled triangle\")\n",
    "    else:\n",
    "        print(\"Acute-angled triangle\")\n",
    "        \n",
    "a = int(input(\"Enter side a: \"))\n",
    "b = int(input(\"Enter side b: \"))\n",
    "c = int(input(\"Enter side c: \"))\n",
    "triangleType(a, b, c)"
   ]
  },
  {
   "cell_type": "raw",
   "id": "b3c0fe0d-bd90-458b-849c-a5a9d601ba91",
   "metadata": {},
   "source": [
    "7.Build a program that determines the largest of three given numbers."
   ]
  },
  {
   "cell_type": "code",
   "execution_count": null,
   "id": "f4022618-bcb8-4e4f-9a82-61f0c6317cc7",
   "metadata": {},
   "outputs": [],
   "source": [
    "num1=10\n",
    "num2=14\n",
    "num3=20\n",
    "if (num1>=num2)and(num1>=num3):\n",
    "    largest=num1\n",
    "elif(num2>=num1)and(num2>=num3):\n",
    "    largest=num2\n",
    "else:\n",
    "        largest=num3\n",
    "print(\"the largest number is \",largest)"
   ]
  },
  {
   "cell_type": "raw",
   "id": "261a6916-aadb-488c-8d56-acde03099fa9",
   "metadata": {},
   "source": [
    "8. Develop a program that checks whether a character is a vowel or a consonant."
   ]
  },
  {
   "cell_type": "code",
   "execution_count": null,
   "id": "8092c351-0fd9-4968-bc47-b5945fdc2d38",
   "metadata": {},
   "outputs": [],
   "source": [
    "def vowelOrConsonant(x): \n",
    "\n",
    "\tif (x == 'a' or x == 'e' or\n",
    "\t\tx == 'i' or x == 'o' or x == 'u'): \n",
    "\t\tprint(\"Vowel\") \n",
    "\telse: \n",
    "\t\tprint(\"Consonant\")\n",
    "vowelOrConsonant('c') \n",
    "vowelOrConsonant('e')"
   ]
  },
  {
   "cell_type": "raw",
   "id": "b541b34e-f8a5-49b3-aa8d-b738ad818202",
   "metadata": {},
   "source": [
    "9. Create a program to calculate the total cost of a shopping cart based on discounts."
   ]
  },
  {
   "cell_type": "code",
   "execution_count": 8,
   "id": "bd7a8825-61ec-476f-ade6-2099dd82f7a3",
   "metadata": {},
   "outputs": [],
   "source": [
    "class ShoppingCart:\n",
    "    def __init__(self):\n",
    "        self.items = []\n",
    "\n",
    "    def add_item(self, item_name, qty):\n",
    "        item = (item_name, qty)\n",
    "        self.items.append(item)\n",
    "\n",
    "    def remove_item(self, item_name):\n",
    "        for item in self.items:\n",
    "            if item[0] == item_name:\n",
    "                self.items.remove(item)\n",
    "                break\n",
    "\n",
    "    def calculate_total(self):\n",
    "        total = 0\n",
    "        for item in self.items:\n",
    "            total += item[1]\n",
    "        return total"
   ]
  },
  {
   "cell_type": "raw",
   "id": "cf21c6b4-f7ea-4207-8dda-b35b9229dde6",
   "metadata": {},
   "source": [
    "10. Write a program that checks if a given number is even or odd."
   ]
  },
  {
   "cell_type": "code",
   "execution_count": 9,
   "id": "868dfe22-264a-4eac-b427-608bd948ac22",
   "metadata": {},
   "outputs": [
    {
     "name": "stdin",
     "output_type": "stream",
     "text": [
      "enter a number 8\n"
     ]
    },
    {
     "name": "stdout",
     "output_type": "stream",
     "text": [
      "this is odd number\n"
     ]
    }
   ],
   "source": [
    "num=int(input(\"enter a number\"))\n",
    "if num%2:\n",
    "        print(\"this is even number\")\n",
    "else:\n",
    "        print(\"this is odd number\")"
   ]
  },
  {
   "cell_type": "raw",
   "id": "496eaeea-22b5-47ff-bf51-4efb14acbd39",
   "metadata": {},
   "source": [
    "Intermediate Level:"
   ]
  },
  {
   "cell_type": "raw",
   "id": "22192893-493d-4b2d-9a19-5b759e7dc810",
   "metadata": {},
   "source": [
    "11. Write a program that calculates the roots of a quadratic equation"
   ]
  },
  {
   "cell_type": "code",
   "execution_count": null,
   "id": "f301b79f-635c-4c19-8278-a5896254d2d8",
   "metadata": {},
   "outputs": [],
   "source": [
    " Solve the quadratic equation ax**2 + bx + c = 0\n",
    "\n",
    "# import complex math module\n",
    "import cmath\n",
    "\n",
    "a = 1\n",
    "b = 5\n",
    "c = 6\n",
    "\n",
    "# calculate the discriminant\n",
    "d = (b**2) - (4*a*c)\n",
    "\n",
    "# find two solutions\n",
    "sol1 = (-b-cmath.sqrt(d))/(2*a)\n",
    "sol2 = (-b+cmath.sqrt(d))/(2*a)\n",
    "\n",
    "print('The solution are {0} and {1}'.format(sol1,sol2))\n"
   ]
  },
  {
   "cell_type": "raw",
   "id": "f2cfb45f-3166-47d2-a4b6-e13de2bb9877",
   "metadata": {},
   "source": [
    "12. Create a program that determines the day of the week based on the day number (1-7)."
   ]
  },
  {
   "cell_type": "code",
   "execution_count": null,
   "id": "e8e523e6-07c5-42b0-9a04-8666bd300405",
   "metadata": {},
   "outputs": [],
   "source": [
    "weekday = int(input(\"Enter weekday day number (1-7) : \"))\n",
    "\n",
    "if weekday == 1 :\n",
    "    print(\"\\nMonday\");\n",
    "\n",
    "elif weekday == 2 :\n",
    "    print(\"\\nTuesday\")\n",
    "\n",
    "elif(weekday == 3) :\n",
    "    print(\"\\nWednesday\")\n",
    "\n",
    "elif(weekday == 4) :\n",
    "    print(\"\\nThursday\")\n",
    "\n",
    "elif(weekday == 5) :\n",
    "    print(\"\\nFriday\")\n",
    "\n",
    "elif(weekday == 6) :\n",
    "    print(\"\\nSaturday\")\n",
    "\n",
    "elif (weekday == 7) :\n",
    "    print(\"\\nSunday\")\n",
    "\n",
    "else :\n",
    "    print(\"\\nPlease enter weekday number between 1-7.\")"
   ]
  },
  {
   "cell_type": "raw",
   "id": "55e2a045-2d4a-4559-9a08-6cdc5d1bbd91",
   "metadata": {},
   "source": [
    "13. Develop a program that calculates the factorial of a given number using recursion."
   ]
  },
  {
   "cell_type": "code",
   "execution_count": 10,
   "id": "03b5980d-f327-4e23-9060-625369242158",
   "metadata": {},
   "outputs": [
    {
     "name": "stdout",
     "output_type": "stream",
     "text": [
      "The factorial of 7 is 5040\n"
     ]
    }
   ],
   "source": [
    "# Factorial of a number using recursion\n",
    "\n",
    "def recur_factorial(n):\n",
    "   if n == 1:\n",
    "       return n\n",
    "   else:\n",
    "       return n*recur_factorial(n-1)\n",
    "\n",
    "num = 7\n",
    "\n",
    "# check if the number is negative\n",
    "if num < 0:\n",
    "   print(\"Sorry, factorial does not exist for negative numbers\")\n",
    "elif num == 0:\n",
    "   print(\"The factorial of 0 is 1\")\n",
    "else:\n",
    "   print(\"The factorial of\", num, \"is\", recur_factorial(num))\n"
   ]
  },
  {
   "cell_type": "raw",
   "id": "e25efee1-2785-4e09-b82a-8a2074be3966",
   "metadata": {},
   "source": [
    "14. Write a program to find the largest among three numbers without using the `max()` function."
   ]
  },
  {
   "cell_type": "code",
   "execution_count": null,
   "id": "fa445261-b9ea-4e2e-9d2e-9778666f78ec",
   "metadata": {},
   "outputs": [],
   "source": [
    "# Python program to find the largest number among the three input numbers\n",
    "\n",
    "# change the values of num1, num2 and num3\n",
    "# for a different result\n",
    "num1 = 10\n",
    "num2 = 14\n",
    "num3 = 12\n",
    "\n",
    "# uncomment following lines to take three numbers from user\n",
    "#num1 = float(input(\"Enter first number: \"))\n",
    "#num2 = float(input(\"Enter second number: \"))\n",
    "#num3 = float(input(\"Enter third number: \"))\n",
    "\n",
    "if (num1 >= num2) and (num1 >= num3):\n",
    "   largest = num1\n",
    "elif (num2 >= num1) and (num2 >= num3):\n",
    "   largest = num2\n",
    "else:\n",
    "   largest = num3\n",
    "\n",
    "print(\"The largest number is\", largest)\n"
   ]
  },
  {
   "cell_type": "markdown",
   "id": "0cb05aaa-d6de-4fc7-986c-9fb9c0818eee",
   "metadata": {},
   "source": [
    "15. Create a program that simulates a basic ATM transaction menu."
   ]
  },
  {
   "cell_type": "code",
   "execution_count": 11,
   "id": "32c2655f-490e-470b-83ee-1ed664b85e6c",
   "metadata": {},
   "outputs": [],
   "source": [
    "user = {\n",
    "    'pin': 1234,\n",
    "    'balance':1000\n",
    "}\n",
    "\n",
    "def widthdraw_cash():\n",
    "    while True:\n",
    "        amount = int(input(\"Enter the amount of money you want to widthdraw: \"))\n",
    "        if amount > user['balance']:\n",
    "            print(\"You don't have sufficient balance to make this widthdrawal\")\n",
    "        else:\n",
    "            user['balance'] = user['balance'] - amount\n",
    "            print(f\"{amount} Dollars successfully widthdrawn your remaining balance is {user['balance']} Dollars\")\n",
    "            print('')"
   ]
  },
  {
   "cell_type": "raw",
   "id": "824c9094-4706-4bb7-9f32-fc3957a3bb16",
   "metadata": {},
   "source": [
    "16. Build a program that checks if a given string is a palindrome or not."
   ]
  },
  {
   "cell_type": "code",
   "execution_count": null,
   "id": "8fe1989b-3ece-43ea-bbce-34fba8686df5",
   "metadata": {},
   "outputs": [],
   "source": [
    "my_str = 'aIbohPhoBiA'\n",
    "\n",
    "# make it suitable for caseless comparison\n",
    "my_str = my_str.casefold()\n",
    "\n",
    "# reverse the string\n",
    "rev_str = reversed(my_str)\n",
    "\n",
    "# check if the string is equal to its reverse\n",
    "if list(my_str) == list(rev_str):\n",
    "   print(\"The string is a palindrome.\")\n",
    "else:\n",
    "   print(\"The string is not a palindrome.\")"
   ]
  },
  {
   "cell_type": "raw",
   "id": "e191ac3b-9e56-429a-b029-f916473c2642",
   "metadata": {},
   "source": [
    "17. Write a program that calculates the average of a list of numbers, excluding the smallest and largest values."
   ]
  },
  {
   "cell_type": "code",
   "execution_count": null,
   "id": "32cef39f-0bdb-4dd1-a914-e1017bc17ddd",
   "metadata": {},
   "outputs": [],
   "source": [
    "# Python program to get average of a list \n",
    "def Average(lst): \n",
    "\treturn sum(lst) / len(lst) \n",
    "\n",
    "# Driver Code \n",
    "lst = [15, 9, 55, 41, 35, 20, 62, 49] \n",
    "average = Average(lst) \n",
    "\n",
    "# Printing average of the list \n",
    "print(\"Average of the list =\", round(average, 2)) \n"
   ]
  },
  {
   "cell_type": "raw",
   "id": "aa48a99c-01cd-4b90-a2a9-3883219bfd3e",
   "metadata": {},
   "source": [
    "18. D18. Develop a program that converts a given temperature from Celsius to Fahrenheit.evelop a program that converts a given temperature from Celsius to Fahrenheit."
   ]
  },
  {
   "cell_type": "code",
   "execution_count": null,
   "id": "e1e902bb-a2a2-4be2-ac97-b69d0e3f0099",
   "metadata": {},
   "outputs": [],
   "source": [
    "# Temperature in celsius degree\n",
    "celsius = 47\n",
    "\n",
    "# Converting the temperature to\n",
    "# fehrenheit using the formula\n",
    "fahrenheit = (celsius * 1.8) + 32\n",
    "\n",
    "# printing the result\n",
    "print('%.2f Celsius is equivalent to: %.2f Fahrenheit'\n",
    "\t% (celsius, fahrenheit))\n"
   ]
  },
  {
   "cell_type": "raw",
   "id": "256d0388-f3a5-4faf-abcd-facc5d3bd5cf",
   "metadata": {},
   "source": [
    "19. Create a program that simulates a basic calculator for addition, subtraction, multiplication, and division."
   ]
  },
  {
   "cell_type": "code",
   "execution_count": null,
   "id": "4bb565f9-05df-4c11-8e80-8f917bdfe2fb",
   "metadata": {},
   "outputs": [],
   "source": [
    "# This function adds two numbers\n",
    "def add(x, y):\n",
    "    return x + y\n",
    "\n",
    "# This function subtracts two numbers\n",
    "def subtract(x, y):\n",
    "    return x - y\n",
    "\n",
    "# This function multiplies two numbers\n",
    "def multiply(x, y):\n",
    "    return x * y\n",
    "\n",
    "# This function divides two numbers\n",
    "def divide(x, y):\n",
    "    return x / y\n",
    "\n",
    "\n",
    "print(\"Select operation.\")\n",
    "print(\"1.Add\")\n",
    "print(\"2.Subtract\")\n",
    "print(\"3.Multiply\")\n",
    "print(\"4.Divide\")\n",
    "\n",
    "while True:\n",
    "    # take input from the user\n",
    "    choice = input(\"Enter choice(1/2/3/4): \")\n",
    "\n",
    "    # check if choice is one of the four options\n",
    "    if choice in ('1', '2', '3', '4'):\n",
    "        try:\n",
    "            num1 = float(input(\"Enter first number: \"))\n",
    "            num2 = float(input(\"Enter second number: \"))\n",
    "        except ValueError:\n",
    "            print(\"Invalid input. Please enter a number.\")\n",
    "            continue\n",
    "\n",
    "        if choice == '1':\n",
    "            print(num1, \"+\", num2, \"=\", add(num1, num2))\n",
    "\n",
    "        elif choice == '2':\n",
    "            print(num1, \"-\", num2, \"=\", subtract(num1, num2))\n",
    "\n",
    "        elif choice == '3':\n",
    "            print(num1, \"*\", num2, \"=\", multiply(num1, num2))\n",
    "\n",
    "        elif choice == '4':\n",
    "            print(num1, \"/\", num2, \"=\", divide(num1, num2))\n",
    "        \n",
    "        # check if user wants another calculation\n",
    "        # break the while loop if answer is no\n",
    "        next_calculation = input(\"Let's do next calculation? (yes/no): \")\n",
    "        if next_calculation == \"no\":\n",
    "          break\n",
    "    else:\n",
    "        print(\"Invalid Input\")"
   ]
  },
  {
   "cell_type": "raw",
   "id": "a758f40a-b820-4ce0-b1d7-fe820580decd",
   "metadata": {},
   "source": [
    "20. Write a program that determines the roots of a cubic equation using the Cardano formula."
   ]
  },
  {
   "cell_type": "code",
   "execution_count": null,
   "id": "067680e2-0b0c-47ab-8698-745b76c8f6fe",
   "metadata": {},
   "outputs": [],
   "source": [
    "# Python3 program for the approach\n",
    "\n",
    "# Function to find the cubic equation\n",
    "# whose roots are a, b and c\n",
    "def findEquation(a, b, c):\n",
    "\t\n",
    "\t# Find the value of coefficient\n",
    "\tX = (a + b + c);\n",
    "\tY = (a * b) + (b * c) + (c * a);\n",
    "\tZ = (a * b * c);\n",
    "\n",
    "\t# Print the equation as per the\n",
    "\t# above coefficients\n",
    "\tprint(\"x^3 - \" , X ,\n",
    "\t\t\"x^2 + \" ,Y ,\n",
    "\t\t\"x - \" , Z , \" = 0\");\n",
    "\n",
    "# Driver Code\n",
    "if __name__ == '__main__':\n",
    "\t\n",
    "\ta = 5;\n",
    "\tb = 2;\n",
    "\tc = 3;\n",
    "\n",
    "\t# Function Call\n",
    "\tfindEquation(a, b, c);\n",
    "\n",
    "# This code is contributed by sapnasingh4991\n"
   ]
  },
  {
   "cell_type": "raw",
   "id": "15ef9be6-61d7-4e44-8270-9dba3d785611",
   "metadata": {},
   "source": [
    "Advanced Level:"
   ]
  },
  {
   "cell_type": "raw",
   "id": "f48daf7e-c4e8-4d43-bba9-74a218384828",
   "metadata": {},
   "source": [
    "21. Create a program that calculates the income tax based on the user's income and tax brackets."
   ]
  },
  {
   "cell_type": "code",
   "execution_count": null,
   "id": "d60c7725-0c25-4e9b-bd22-586cb2b260e6",
   "metadata": {},
   "outputs": [],
   "source": [
    "def calculate(amount, percent): \n",
    "\treturn (amount * percent) / 100\n",
    "\n",
    "def calculate_income_tax(total_income: \n",
    "\t\t\t\t\t\tfloat) -> float: \n",
    "\n",
    "\tif total_income <= 250000: \n",
    "\t\treturn 0\n",
    "\telif total_income <= 500000: \n",
    "\t\treturn calculate(total_income -\n",
    "\t\t\t\t\t\t250000, 5) \n",
    "\telif total_income <= 750000: \n",
    "\t\treturn calculate(total_income -\n",
    "\t\t\t\t\t\t500000, 10) + 12500\n",
    "\telif total_income <= 1000000: \n",
    "\t\treturn calculate(total_income -\n",
    "\t\t\t\t\t\t750000, 15) + 37500\n",
    "\telif total_income <= 1250000: \n",
    "\t\treturn calculate(total_income -\n",
    "\t\t\t\t\t\t1000000, 20) + 75000\n",
    "\telif total_income <= 1500000: \n",
    "\t\treturn calculate(total_income -\n",
    "\t\t\t\t\t\t1250000, 25) + 125000\n",
    "\telse: \n",
    "\t\treturn calculate(total_income -\n",
    "\t\t\t\t\t\t1500000, 30) + 187500\n",
    "\n",
    "\n",
    "if __name__ == '__main__': \n",
    "\ttotal_income = float(input(\"What's your \\ \n",
    "\t\t\t\t\tannual income?\\n>>> \")) \n",
    "\ttax = calculate_income_tax(total_income) \n",
    "\tprint(f\"Total tax applicable at \\ \n",
    "\t\t\t\t\t₹{total_income} is ₹{tax}\") \n"
   ]
  },
  {
   "cell_type": "raw",
   "id": "2cfc826e-cad0-47f5-bee6-4c4e043ff4a9",
   "metadata": {},
   "source": [
    "22. Write a program that simulates a rock-paper-scissors game against the computer."
   ]
  },
  {
   "cell_type": "code",
   "execution_count": null,
   "id": "81587426-bc0e-4f16-957b-39b218e4a452",
   "metadata": {},
   "outputs": [],
   "source": [
    "def rps():   \n",
    " lst['R', 'P', 'S']\n",
    " p1=random.choice(lst)\n",
    " p2=random.choice(lst)\n",
    " if p1+p2=='RS' or p1+p2=='PR' or p1+p2=='SP':\n",
    "      return '-1'\n",
    " elif p1+p2=='RP' or p1+p2=='PS' or p1+p2=='SR':\n",
    "      return '1'\n",
    " else:\n",
    "      return '0'\n",
    "\n",
    "def simul(n):\n",
    " total=0\n",
    " for i in range(n):\n",
    "      if rps()==-1:\n",
    "           total+=-1\n",
    "      elif rps()==1:\n",
    "           total+=1\n",
    "      else:\n",
    "           total+=0\n",
    " if total<0:\n",
    "      print('Player1')\n",
    " elif total==0:\n",
    "      print('Tie')\n",
    " else:\n",
    "      print('Player2')"
   ]
  },
  {
   "cell_type": "raw",
   "id": "a134aeaa-ff0b-49d8-8514-b3b07288a724",
   "metadata": {},
   "source": [
    "23. Develop a program that generates a random password based on user preferences (length, complexity).\n",
    " "
   ]
  },
  {
   "cell_type": "code",
   "execution_count": 1,
   "id": "5e4add8a-99cb-459b-8a41-9c4ee8880a5c",
   "metadata": {},
   "outputs": [
    {
     "name": "stdin",
     "output_type": "stream",
     "text": [
      "enter the password 5\n"
     ]
    },
    {
     "name": "stdout",
     "output_type": "stream",
     "text": [
      "choose character set for password form these.1 digits2.letters3.special charcater.4.exit\n"
     ]
    },
    {
     "name": "stdin",
     "output_type": "stream",
     "text": [
      "pick a number ss\n"
     ]
    },
    {
     "ename": "ValueError",
     "evalue": "invalid literal for int() with base 10: 'ss'",
     "output_type": "error",
     "traceback": [
      "\u001b[0;31m---------------------------------------------------------------------------\u001b[0m",
      "\u001b[0;31mValueError\u001b[0m                                Traceback (most recent call last)",
      "Cell \u001b[0;32mIn[1], line 8\u001b[0m\n\u001b[1;32m      6\u001b[0m character\u001b[38;5;241m=\u001b[39m\u001b[38;5;124m\"\u001b[39m\u001b[38;5;124m \u001b[39m\u001b[38;5;124m\"\u001b[39m\n\u001b[1;32m      7\u001b[0m \u001b[38;5;28;01mwhile\u001b[39;00m(\u001b[38;5;28;01mTrue\u001b[39;00m):\n\u001b[0;32m----> 8\u001b[0m     choice\u001b[38;5;241m=\u001b[39m\u001b[38;5;28;43mint\u001b[39;49m\u001b[43m(\u001b[49m\u001b[38;5;28;43minput\u001b[39;49m\u001b[43m(\u001b[49m\u001b[38;5;124;43m\"\u001b[39;49m\u001b[38;5;124;43mpick a number\u001b[39;49m\u001b[38;5;124;43m\"\u001b[39;49m\u001b[43m)\u001b[49m\u001b[43m)\u001b[49m\n\u001b[1;32m      9\u001b[0m \u001b[38;5;28;01mif\u001b[39;00m (choice\u001b[38;5;241m==\u001b[39m\u001b[38;5;241m1\u001b[39m):\n\u001b[1;32m     10\u001b[0m     characterlist\u001b[38;5;241m+\u001b[39m\u001b[38;5;241m=\u001b[39mstring\u001b[38;5;241m.\u001b[39mascending_letters\n",
      "\u001b[0;31mValueError\u001b[0m: invalid literal for int() with base 10: 'ss'"
     ]
    }
   ],
   "source": [
    "import string \n",
    "import random \n",
    "#getting password length\n",
    "length=(input(\"enter the password\"))\n",
    "print('''choose character set for password form these.1 digits2.letters3.special charcater.4.exit''')\n",
    "character=\" \"\n",
    "while(True):\n",
    "    choice=int(input(\"pick a number\"))\n",
    "if (choice==1):\n",
    "    characterlist+=string.ascending_letters\n",
    "elif (choice==2):\n",
    "    characterList+=string.digit\n",
    "elif (choice==3):\n",
    "    characterList+=string.punctuation\n",
    "elif(choice==4):\n",
    "    break\n",
    "else:\n",
    "    print(\"please pick a valid password\")\n",
    "    password=[]\n",
    "for i in range(length):\n",
    "    randomchar=random.choice(characterList)\n",
    "    password.append(randomchar)\n",
    "    print(\"the random password is\".join(password))\n",
    " "
   ]
  },
  {
   "cell_type": "raw",
   "id": "a25a4b00-52b5-438d-8cf0-6ad2e165172e",
   "metadata": {},
   "source": [
    "24. Create a program that implements a simple text-based adventure game with branching scenarios.\n",
    " "
   ]
  },
  {
   "cell_type": "code",
   "execution_count": 2,
   "id": "bf343817-e928-471f-b339-2a6dec8baf0c",
   "metadata": {},
   "outputs": [],
   "source": [
    "def scene1():\n",
    "    import time\n",
    "    print(\"\"\"WELCOME TO THE ADVENTURE GAME!\n",
    "        Let's start the action! ☆-🎬-☆\n",
    "\n",
    "        Lily wakes up in her bedroom in the middle of the night. She heard a loud BAN outside the house.\n",
    "        Now she has two choices she can either stay in the room or check what the sound might be about.\n",
    "\n",
    "        Type your choice: Stay or Evaluate?\n",
    "    \"\"\")\n",
    "\n",
    "    c1 = input()\n",
    "    time.sleep(2)\n",
    "    ans = 'incorrect'\n",
    "    while(ans=='incorrect'):\n",
    "        if(c1.upper()==\"STAY\"):\n",
    "            print(\"\\nLily decides to stay in the room and ends up staying inside forever as noone seems to come to help her.\")\n",
    "            ans = 'correct'\n",
    "        elif(c1.upper()==\"EVALUATE\"):\n",
    "            print(\"Lily exits the room silently and reaches the main hall.\")\n",
    "            ans='correct'\n",
    "            scene2()\n",
    "        else:\n",
    "            print(\"ENTER THE CORRECT CHOICE! Stay or Evaluate?\")\n",
    "            c1 = input()"
   ]
  },
  {
   "cell_type": "raw",
   "id": "1f1ae078-eebe-4c68-8c6a-29c89f40f227",
   "metadata": {},
   "source": [
    "25. Build a program that solves a linear equation  for x, considering different cases.\n",
    " "
   ]
  },
  {
   "cell_type": "code",
   "execution_count": 15,
   "id": "aff0278b-3212-4ff4-83d9-1cd4740c5fe2",
   "metadata": {},
   "outputs": [],
   "source": [
    "def solve_time(equation,var='x'):\n",
    "    expression=equation.replace(\"=\",\"-\",(\"\"))\n",
    "    grouped=eval(expression.replace(val,'j'))\n",
    "    return grouped.real/grouped.img"
   ]
  },
  {
   "cell_type": "raw",
   "id": "0ce23f8f-c8f4-4fd0-8b20-ed2efa2802fb",
   "metadata": {},
   "source": [
    "## 26. Write a program that simulates a basic quiz game with multiple-choice questions and scoring."
   ]
  },
  {
   "cell_type": "code",
   "execution_count": 20,
   "id": "0e425da5-4781-4d4e-a261-cab06d6f3a20",
   "metadata": {},
   "outputs": [
    {
     "name": "stdin",
     "output_type": "stream",
     "text": [
      "when was the first known use of the word'quiz' 1781\n"
     ]
    },
    {
     "name": "stdout",
     "output_type": "stream",
     "text": [
      "incorrect\n"
     ]
    }
   ],
   "source": [
    "answer=int(input(\"when was the first known use of the word'quiz'\"))\n",
    "if answer==\"1781\":\n",
    "    print(\"crorect\")\n",
    "else:\n",
    "    print(\"incorrect\")"
   ]
  },
  {
   "cell_type": "raw",
   "id": "b3f82435-1ba5-4fe3-ae90-1c62bfcc9ff4",
   "metadata": {},
   "source": [
    "27. Develop a program that determines whether a given year is a prime number or not."
   ]
  },
  {
   "cell_type": "code",
   "execution_count": 46,
   "id": "973deda5-5a46-4599-a9dd-9cab6cf704b2",
   "metadata": {},
   "outputs": [
    {
     "name": "stdin",
     "output_type": "stream",
     "text": [
      "Enter any number:  1\n"
     ]
    },
    {
     "name": "stdout",
     "output_type": "stream",
     "text": [
      "1 is not a prime number\n"
     ]
    }
   ],
   "source": [
    "#taking input from user\n",
    "number = int(input(\"Enter any number: \"))\n",
    "\n",
    "# prime number is always greater than 1\n",
    "if number > 1:\n",
    "    for i in range(2, number):\n",
    "        if (number % i) == 0:\n",
    "            print(number, \"is not a prime number\")\n",
    "            break\n",
    "    else:\n",
    "        print(number, \"is a prime number\")\n",
    "\n",
    "# if the entered number is less than or equal to 1\n",
    "# then it is not prime number\n",
    "else:\n",
    "    print(number, \"is not a prime number\")"
   ]
  },
  {
   "cell_type": "markdown",
   "id": "2cb54c7f-52d1-45ad-b469-a2403dd4c587",
   "metadata": {},
   "source": [
    "##28. Create a program that sorts three numbers in ascending order using conditional statements"
   ]
  },
  {
   "cell_type": "code",
   "execution_count": 54,
   "id": "77d9ad64-7441-40b5-8d2d-70c4b8f90f09",
   "metadata": {},
   "outputs": [
    {
     "ename": "SyntaxError",
     "evalue": "invalid syntax (1026818668.py, line 9)",
     "output_type": "error",
     "traceback": [
      "\u001b[0;36m  Cell \u001b[0;32mIn[54], line 9\u001b[0;36m\u001b[0m\n\u001b[0;31m    else:\u001b[0m\n\u001b[0m    ^\u001b[0m\n\u001b[0;31mSyntaxError\u001b[0m\u001b[0;31m:\u001b[0m invalid syntax\n"
     ]
    }
   ],
   "source": [
    "a=int(input(\"enter the first number\"))\n",
    "b=int(input(\"enter the sencond number\"))\n",
    "c=int(input(\"enter the third number\"))\n",
    "if a<b:\n",
    "    if a<c:\n",
    "        print(a,b,c)\n",
    "    else:\n",
    "        print(a,c,b)\n",
    "    else:\n",
    "        print(b,a,c)\n",
    "    else:\n",
    "        print(b,c,a)"
   ]
  },
  {
   "cell_type": "raw",
   "id": "65dd6147-54e8-4855-8c24-47f7e424be52",
   "metadata": {},
   "source": [
    "29. Build a program that determines the roots of a quartic equation using numerical methods."
   ]
  },
  {
   "cell_type": "code",
   "execution_count": 55,
   "id": "004313cf-6c81-45ee-bf35-69de9fde0052",
   "metadata": {},
   "outputs": [
    {
     "ename": "IndentationError",
     "evalue": "expected an indented block after 'if' statement on line 4 (1405007218.py, line 5)",
     "output_type": "error",
     "traceback": [
      "\u001b[0;36m  Cell \u001b[0;32mIn[55], line 5\u001b[0;36m\u001b[0m\n\u001b[0;31m    print(\"real and different roots\")\u001b[0m\n\u001b[0m    ^\u001b[0m\n\u001b[0;31mIndentationError\u001b[0m\u001b[0;31m:\u001b[0m expected an indented block after 'if' statement on line 4\n"
     ]
    }
   ],
   "source": [
    "import Math\n",
    "def equationroots(a,b,c):\n",
    "    sqrt_val=math.sqrt(abs(dis))\n",
    "    if dis>0:\n",
    "    print(\"real and different roots\")\n",
    "    print((-b+sqrt_val)/(2*a))\n",
    "    print((-b-sqrt_val)/(2*a))\n",
    "    elif dis==0:\n",
    "        print(\"real and same roots\")\n",
    "        print(-b/(2*a))\n",
    "    else:\n",
    "        print(\"complex roots\")\n",
    "        print(-b/(2*a)+i,sqrt_val)\n",
    "        print(-b/(2*a)-i,sqrt_val)\n",
    "        a=1\n",
    "        b=2\n",
    "        c=-24\n",
    "        if a==0:\n",
    "            print(\"input correct quadratic equation\")\n",
    "        else:\n",
    "            equationroots(a,b,c)"
   ]
  },
  {
   "cell_type": "raw",
   "id": "af18b46d-2822-4486-9556-d7e167c35822",
   "metadata": {},
   "source": [
    "30. Write a program that calculates the BMI (Body Mass Index) and provides health recommendations based \n",
    "on the user's input."
   ]
  },
  {
   "cell_type": "code",
   "execution_count": null,
   "id": "e30938e8-14d4-41a0-92ec-1034e834339b",
   "metadata": {},
   "outputs": [],
   "source": [
    "#Python program to illustrate \n",
    "# how to calculate BMI \n",
    "def BMI(height, weight): \n",
    "\tbmi = weight/(height**2) \n",
    "\treturn bmi \n",
    "\n",
    "# Driver code \n",
    "height = 1.79832\n",
    "weight = 70\n",
    "\n",
    "# calling the BMI function \n",
    "bmi = BMI(height, weight) \n",
    "print(\"The BMI is\", format(bmi), \"so \", end='') \n",
    "\n",
    "# Conditions to find out BMI category \n",
    "if (bmi < 18.5): \n",
    "\tprint(\"underweight\") \n",
    "\n",
    "elif ( bmi >= 18.5 and bmi < 24.9): \n",
    "\tprint(\"Healthy\") \n",
    "\n",
    "elif ( bmi >= 24.9 and bmi < 30): \n",
    "\tprint(\"overweight\") \n",
    "\n",
    "elif ( bmi >=30): \n",
    "\tprint(\"Suffering from Obesity\") \n"
   ]
  },
  {
   "cell_type": "code",
   "execution_count": null,
   "id": "b966f4b0-1504-426c-9ac8-eb341fc21d3c",
   "metadata": {},
   "outputs": [],
   "source": [
    "## Challenge Level"
   ]
  },
  {
   "cell_type": "markdown",
   "id": "25c86036-bc2b-4baf-a3ed-36a2f8363744",
   "metadata": {},
   "source": [
    " ##31. Create a program that validates a password based on complexity rules (length, characters, etc.)"
   ]
  },
  {
   "cell_type": "code",
   "execution_count": null,
   "id": "812d5870-f709-4fc5-b28a-29fb2f030175",
   "metadata": {},
   "outputs": [],
   "source": [
    "# Python program to check validation of password\n",
    "# Module of regular expression is used with search()\n",
    "import re\n",
    "password = \"R@m@_f0rtu9e$\"\n",
    "flag = 0\n",
    "while True:\n",
    "\tif (len(password)<=8):\n",
    "\t\tflag = -1\n",
    "\t\tbreak\n",
    "\telif not re.search(\"[a-z]\", password):\n",
    "\t\tflag = -1\n",
    "\t\tbreak\n",
    "\telif not re.search(\"[A-Z]\", password):\n",
    "\t\tflag = -1\n",
    "\t\tbreak\n",
    "\telif not re.search(\"[0-9]\", password):\n",
    "\t\tflag = -1\n",
    "\t\tbreak\n",
    "\telif not re.search(\"[_@$]\" , password):\n",
    "\t\tflag = -1\n",
    "\t\tbreak\n",
    "\telif re.search(\"\\s\" , password):\n",
    "\t\tflag = -1\n",
    "\t\tbreak\n",
    "\telse:\n",
    "\t\tflag = 0\n",
    "\t\tprint(\"Valid Password\")\n",
    "\t\tbreak\n",
    "\n",
    "if flag == -1:\n",
    "\tprint(\"Not a Valid Password \")\n"
   ]
  },
  {
   "cell_type": "markdown",
   "id": "28001196-6949-4c9d-a99c-337f85830e7b",
   "metadata": {},
   "source": [
    "32. Develop a program that performs matrix addition and subtraction based on user input.\n",
    " "
   ]
  },
  {
   "cell_type": "code",
   "execution_count": null,
   "id": "6f9ba4d6-05e1-424a-a3c2-d3bdbb06f6f8",
   "metadata": {},
   "outputs": [],
   "source": [
    "# Input matrices\n",
    "matrix1 = [[1, 2], [3, 4]]\n",
    "matrix2 = [[4, 5], [6, 7]]\n",
    "\n",
    "# Printing elements of matrix1\n",
    "print(\"Printing elements of first matrix\")\n",
    "for row in matrix1:\n",
    "\tfor element in row:\n",
    "\t\tprint(element, end=\" \")\n",
    "\tprint()\n",
    "\n",
    "# Printing elements of matrix2\n",
    "print(\"Printing elements of second matrix\")\n",
    "for row in matrix2:\n",
    "\tfor element in row:\n",
    "\t\tprint(element, end=\" \")\n",
    "\tprint()\n",
    "\n",
    "# Subtracting two matrices\n",
    "result = [[0, 0], [0, 0]]\n",
    "for i in range(len(matrix1)):\n",
    "\tfor j in range(len(matrix1[0])):\n",
    "\t\tresult[i][j] = matrix1[i][j] - matrix2[i][j]\n",
    "\n",
    "# Printing the result\n",
    "print(\"Subtraction of two matrix\")\n",
    "for row in result:\n",
    "\tfor element in row:\n",
    "\t\tprint(element, end=\" \")\n",
    "\tprint()\n"
   ]
  },
  {
   "cell_type": "markdown",
   "id": "6a3602e2-d660-49d3-8c06-be4a6349b37d",
   "metadata": {},
   "source": [
    "33. Write a program that calculates the greatest common divisor (GCD) of two numbers using the Euclidean \n",
    "algorithm."
   ]
  },
  {
   "cell_type": "code",
   "execution_count": null,
   "id": "671a75ac-cef7-41c9-b23c-d80042437ae1",
   "metadata": {},
   "outputs": [],
   "source": [
    "# Python program to find GCD of two numbers\n",
    "\n",
    "\n",
    "# Function to find gcd of two numbers\n",
    "def gcd(a, b):\n",
    "\n",
    "\t# Find minimum of a and b\n",
    "\tresult = min(a, b)\n",
    "\n",
    "\twhile result:\n",
    "\t\tif a % result == 0 and b % result == 0:\n",
    "\t\t\tbreak\n",
    "\t\tresult -= 1\n",
    "\n",
    "\t# Return the gcd of a and b\n",
    "\treturn result\n",
    "\n",
    "\n",
    "# Driver Code\n",
    "if __name__ == '__main__':\n",
    "\ta = 98\n",
    "\tb = 56\n",
    "\tprint(f\"GCD of {a} and {b} is {gcd(a, b)}\")\n",
    "\n",
    "\n",
    "# This code is contributed by Soham Mirikar\n"
   ]
  },
  {
   "cell_type": "markdown",
   "id": "e55b6095-eb51-4e79-bc2f-e54b440db79f",
   "metadata": {},
   "source": [
    "34. Build a program that performs matrix multiplication using nested loops and conditional statements."
   ]
  },
  {
   "cell_type": "code",
   "execution_count": null,
   "id": "14ca40fd-8aeb-4b1f-b790-11dd95753f73",
   "metadata": {},
   "outputs": [],
   "source": [
    "# Program to multiply two matrices using nested loops\n",
    "\n",
    "# 3x3 matrix\n",
    "X = [[12,7,3],\n",
    "    [4 ,5,6],\n",
    "    [7 ,8,9]]\n",
    "# 3x4 matrix\n",
    "Y = [[5,8,1,2],\n",
    "    [6,7,3,0],\n",
    "    [4,5,9,1]]\n",
    "# result is 3x4\n",
    "result = [[0,0,0,0],\n",
    "         [0,0,0,0],\n",
    "         [0,0,0,0]]\n",
    "\n",
    "# iterate through rows of X\n",
    "for i in range(len(X)):\n",
    "   # iterate through columns of Y\n",
    "   for j in range(len(Y[0])):\n",
    "       # iterate through rows of Y\n",
    "       for k in range(len(Y)):\n",
    "           result[i][j] += X[i][k] * Y[k][j]\n",
    "\n",
    "for r in result:\n",
    "   print(r)\n"
   ]
  },
  {
   "cell_type": "markdown",
   "id": "0141ebfa-26e5-4417-8c59-14f35cd50caa",
   "metadata": {},
   "source": [
    "35. Create a program that simulates a basic text-based tic-tac-toe game against the computer.\n",
    " "
   ]
  },
  {
   "cell_type": "code",
   "execution_count": null,
   "id": "2c83c4e4-80d6-4f0b-bdf7-55a447616cee",
   "metadata": {},
   "outputs": [
    {
     "name": "stdout",
     "output_type": "stream",
     "text": [
      "- | - | -\n",
      "- | - | -\n",
      "- | - | -\n",
      "X's turn.\n"
     ]
    },
    {
     "name": "stdin",
     "output_type": "stream",
     "text": [
      "Choose a position from 1-9:  2\n"
     ]
    },
    {
     "name": "stdout",
     "output_type": "stream",
     "text": [
      "- | X | -\n",
      "- | - | -\n",
      "- | - | -\n",
      "O's turn.\n"
     ]
    },
    {
     "name": "stdin",
     "output_type": "stream",
     "text": [
      "Choose a position from 1-9:  0\n",
      "Invalid input. Choose a position from 1-9:  3\n"
     ]
    },
    {
     "name": "stdout",
     "output_type": "stream",
     "text": [
      "- | X | O\n",
      "- | - | -\n",
      "- | - | -\n",
      "X's turn.\n"
     ]
    },
    {
     "name": "stdin",
     "output_type": "stream",
     "text": [
      "Choose a position from 1-9:  4\n"
     ]
    },
    {
     "name": "stdout",
     "output_type": "stream",
     "text": [
      "- | X | O\n",
      "X | - | -\n",
      "- | - | -\n",
      "O's turn.\n"
     ]
    },
    {
     "name": "stdin",
     "output_type": "stream",
     "text": [
      "Choose a position from 1-9:  1\n"
     ]
    },
    {
     "name": "stdout",
     "output_type": "stream",
     "text": [
      "O | X | O\n",
      "X | - | -\n",
      "- | - | -\n",
      "X's turn.\n"
     ]
    },
    {
     "name": "stdin",
     "output_type": "stream",
     "text": [
      "Choose a position from 1-9:  -0\n",
      "Invalid input. Choose a position from 1-9:  win\n",
      "Invalid input. Choose a position from 1-9:  fff\n",
      "Invalid input. Choose a position from 1-9:  -\n"
     ]
    }
   ],
   "source": [
    "# Set up the game board as a list\n",
    "board = [\"-\", \"-\", \"-\",\n",
    "\t\t\"-\", \"-\", \"-\",\n",
    "\t\t\"-\", \"-\", \"-\"]\n",
    "\n",
    "# Define a function to print the game board\n",
    "def print_board():\n",
    "\tprint(board[0] + \" | \" + board[1] + \" | \" + board[2])\n",
    "\tprint(board[3] + \" | \" + board[4] + \" | \" + board[5])\n",
    "\tprint(board[6] + \" | \" + board[7] + \" | \" + board[8])\n",
    "\n",
    "# Define a function to handle a player's turn\n",
    "def take_turn(player):\n",
    "\tprint(player + \"'s turn.\")\n",
    "\tposition = input(\"Choose a position from 1-9: \")\n",
    "\twhile position not in [\"1\", \"2\", \"3\", \"4\", \"5\", \"6\", \"7\", \"8\", \"9\"]:\n",
    "\t\tposition = input(\"Invalid input. Choose a position from 1-9: \")\n",
    "\tposition = int(position) - 1\n",
    "\twhile board[position] != \"-\":\n",
    "\t\tposition = int(input(\"Position already taken. Choose a different position: \")) - 1\n",
    "\tboard[position] = player\n",
    "\tprint_board()\n",
    "\n",
    "# Define a function to check if the game is over\n",
    "def check_game_over():\n",
    "\t# Check for a win\n",
    "\tif (board[0] == board[1] == board[2] != \"-\") or \\\n",
    "\t(board[3] == board[4] == board[5] != \"-\") or \\\n",
    "\t(board[6] == board[7] == board[8] != \"-\") or \\\n",
    "\t(board[0] == board[3] == board[6] != \"-\") or \\\n",
    "\t(board[1] == board[4] == board[7] != \"-\") or \\\n",
    "\t(board[2] == board[5] == board[8] != \"-\") or \\\n",
    "\t(board[0] == board[4] == board[8] != \"-\") or \\\n",
    "\t(board[2] == board[4] == board[6] != \"-\"):\n",
    "\t\treturn \"win\"\n",
    "\t# Check for a tie\n",
    "\telif \"-\" not in board:\n",
    "\t\treturn \"tie\"\n",
    "\t# Game is not over\n",
    "\telse:\n",
    "\t\treturn \"play\"\n",
    "\n",
    "# Define the main game loop\n",
    "def play_game():\n",
    "\tprint_board()\n",
    "\tcurrent_player = \"X\"\n",
    "\tgame_over = False\n",
    "\twhile not game_over:\n",
    "\t\ttake_turn(current_player)\n",
    "\t\tgame_result = check_game_over()\n",
    "\t\tif game_result == \"win\":\n",
    "\t\t\tprint(current_player + \" wins!\")\n",
    "\t\t\tgame_over = True\n",
    "\t\telif game_result == \"tie\":\n",
    "\t\t\tprint(\"It's a tie!\")\n",
    "\t\t\tgame_over = True\n",
    "\t\telse:\n",
    "\t\t\t# Switch to the other player\n",
    "\t\t\tcurrent_player = \"O\" if current_player == \"X\" else \"X\"\n",
    "\n",
    "# Start the game\n",
    "play_game()\n"
   ]
  },
  {
   "cell_type": "markdown",
   "id": "eb423fa4-3817-4771-9277-7538f631896a",
   "metadata": {},
   "source": [
    "#### 36. Write a program that generates Fibonacci numbers up to a specified term using iterative methods"
   ]
  },
  {
   "cell_type": "code",
   "execution_count": 58,
   "id": "32910ddb-4313-42ca-8fb3-1f9e06b8a38e",
   "metadata": {},
   "outputs": [
    {
     "name": "stdin",
     "output_type": "stream",
     "text": [
      "How many terms?  0\n"
     ]
    },
    {
     "name": "stdout",
     "output_type": "stream",
     "text": [
      "Please enter a positive integer\n"
     ]
    }
   ],
   "source": [
    "# Program to display the Fibonacci sequence up to n-th term\n",
    "\n",
    "nterms = int(input(\"How many terms? \"))\n",
    "\n",
    "# first two terms\n",
    "n1, n2 = 0, 1\n",
    "count = 0\n",
    "\n",
    "# check if the number of terms is valid\n",
    "if nterms <= 0:\n",
    "   print(\"Please enter a positive integer\")\n",
    "# if there is only one term, return n1\n",
    "elif nterms == 1:\n",
    "   print(\"Fibonacci sequence upto\",nterms,\":\")\n",
    "   print(n1)\n",
    "# generate fibonacci sequence\n",
    "else:\n",
    "   print(\"Fibonacci sequence:\")\n",
    "   while count < nterms:\n",
    "       print(n1)\n",
    "       nth = n1 + n2\n",
    "       # update values\n",
    "       n1 = n2\n",
    "       n2 = nth\n",
    "       count += 1"
   ]
  },
  {
   "cell_type": "markdown",
   "id": "a669601d-c411-4c58-b873-05a638bd420a",
   "metadata": {},
   "source": [
    "37. Develop a program that calculates the nth term of the Fibonacci sequence using memoization."
   ]
  },
  {
   "cell_type": "code",
   "execution_count": 57,
   "id": "9472934b-8338-48ff-95d3-c40ac2757211",
   "metadata": {},
   "outputs": [
    {
     "name": "stdout",
     "output_type": "stream",
     "text": [
      "34\n"
     ]
    }
   ],
   "source": [
    "# Function for nth Fibonacci number\n",
    "\n",
    "def Fibonacci(n):\n",
    "\tif n<= 0:\n",
    "\t\tprint(\"Incorrect input\")\n",
    "\t# First Fibonacci number is 0\n",
    "\telif n == 1:\n",
    "\t\treturn 0\n",
    "\t# Second Fibonacci number is 1\n",
    "\telif n == 2:\n",
    "\t\treturn 1\n",
    "\telse:\n",
    "\t\treturn Fibonacci(n-1)+Fibonacci(n-2)\n",
    "\n",
    "# Driver Program\n",
    "\n",
    "print(Fibonacci(10))\n"
   ]
  },
  {
   "cell_type": "markdown",
   "id": "2a461f84-7dec-484e-8339-ffa6685b0642",
   "metadata": {},
   "source": [
    "38. Create a program that generates a calendar for a given month and year using conditional statements."
   ]
  },
  {
   "cell_type": "code",
   "execution_count": 56,
   "id": "2df27785-c17f-45b7-9e85-4085bd0aa620",
   "metadata": {},
   "outputs": [
    {
     "name": "stdin",
     "output_type": "stream",
     "text": [
      "Enter the year:  2023\n",
      "Enter the month (1-12):  5\n"
     ]
    },
    {
     "name": "stdout",
     "output_type": "stream",
     "text": [
      "      May 2023\n",
      "Mo Tu We Th Fr Sa Su\n",
      " 1  2  3  4  5  6  7\n",
      " 8  9 10 11 12 13 14\n",
      "15 16 17 18 19 20 21\n",
      "22 23 24 25 26 27 28\n",
      "29 30 31\n",
      "\n"
     ]
    }
   ],
   "source": [
    "import calendar\n",
    "\n",
    "year = int(input(\"Enter the year: \"))\n",
    "month = int(input(\"Enter the month (1-12): \"))\n",
    "\n",
    "# Display the calendar\n",
    "print(calendar.month(year, month))"
   ]
  },
  {
   "cell_type": "markdown",
   "id": "7fd662ad-6917-469d-acf9-64aa69321b7b",
   "metadata": {},
   "source": [
    "39. Build a program that simulates a basic text-based blackjack game against the computer."
   ]
  },
  {
   "cell_type": "code",
   "execution_count": null,
   "id": "42d07a97-4865-44b8-b41e-74f101f4918d",
   "metadata": {},
   "outputs": [],
   "source": []
  },
  {
   "cell_type": "markdown",
   "id": "0399386c-3f93-4231-a6bf-6477bf923643",
   "metadata": {},
   "source": [
    " 40. Write a program that generates the prime factors of a given number using trial division"
   ]
  },
  {
   "cell_type": "code",
   "execution_count": null,
   "id": "b260a992-e5d0-4a64-b751-f03cb978c0a0",
   "metadata": {},
   "outputs": [],
   "source": [
    "# Python3 implementation of \n",
    "# Trial Division Algorithm\n",
    "\n",
    "# Function to check if a number is\n",
    "# a prime number or not \n",
    "def TrialDivision(N):\n",
    "\n",
    "\t# Initializing with the value 2 \n",
    "\t# from where the number is checked\n",
    "\ti = 2\n",
    "\n",
    "\t# Computing the square root of \n",
    "\t# the number N\n",
    "\tk = int(N ** 0.5)\n",
    "\n",
    "\t# While loop till the \n",
    "\t# square root of N\n",
    "\twhile(i<= k):\n",
    "\n",
    "\t\t# If any of the numbers between \n",
    "\t\t# [2, sqrt(N)] is a factor of N \n",
    "\t\t# Then the number is composite\n",
    "\t\tif(N % i == 0):\n",
    "\t\t\treturn 0\n",
    "\t\ti += 1\n",
    "\n",
    "\t# If none of the numbers is a factor,\n",
    "\t# then it is a prime number\n",
    "\treturn 1\n",
    "\t\n",
    "# Driver code\n",
    "if __name__ == \"__main__\":\n",
    "\tN = 49\n",
    "\tp = TrialDivision(N)\n",
    "\n",
    "# To check if a number is a prime or not\n",
    "\tif(p):\n",
    "\t\tprint(\"Prime\")\n",
    "\telse:\n",
    "\t\tprint(\"Composite\")\n",
    "\t\t\n"
   ]
  }
 ],
 "metadata": {
  "kernelspec": {
   "display_name": "Python 3 (ipykernel)",
   "language": "python",
   "name": "python3"
  },
  "language_info": {
   "codemirror_mode": {
    "name": "ipython",
    "version": 3
   },
   "file_extension": ".py",
   "mimetype": "text/x-python",
   "name": "python",
   "nbconvert_exporter": "python",
   "pygments_lexer": "ipython3",
   "version": "3.10.8"
  }
 },
 "nbformat": 4,
 "nbformat_minor": 5
}
